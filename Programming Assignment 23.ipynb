{
 "cells": [
  {
   "cell_type": "code",
   "execution_count": 11,
   "id": "a0019edd",
   "metadata": {},
   "outputs": [
    {
     "name": "stdout",
     "output_type": "stream",
     "text": [
      "True\n"
     ]
    }
   ],
   "source": [
    "\"\"\"Question 1\n",
    "Create a function that takes a number as an argument and returns True or False depending on whether the number is symmetrical or not. A number is symmetrical when it is the same as its reverse.\n",
    "Examples\n",
    "is_symmetrical(7227) ➞ True\n",
    "\n",
    "is_symmetrical(12567) ➞ False\n",
    "\n",
    "is_symmetrical(44444444) ➞ True\n",
    "\n",
    "is_symmetrical(9939) ➞ False\n",
    "\n",
    "is_symmetrical(1112111) ➞ True\"\"\"\n",
    "\n",
    "def is_symmetrical(n):\n",
    "        new_n=0\n",
    "        x=n\n",
    "        while x!=0:\n",
    "            rem=x%10\n",
    "            new_n=rem+10*new_n\n",
    "            x=x//10\n",
    "        if new_n==n:\n",
    "            return True\n",
    "        else:\n",
    "            return False\n",
    "print(is_symmetrical(1771))"
   ]
  },
  {
   "cell_type": "code",
   "execution_count": 7,
   "id": "ac0f3ff6",
   "metadata": {},
   "outputs": [
    {
     "name": "stdout",
     "output_type": "stream",
     "text": [
      "-20\n"
     ]
    }
   ],
   "source": [
    "\"\"\"Question 2\n",
    "Given a string of numbers separated by a comma and space, return the product of the numbers.\n",
    "Examples\n",
    "multiply_nums(\"2, 3\") ➞ 6\n",
    "\n",
    "multiply_nums(\"1, 2, 3, 4\") ➞ 24\n",
    "\n",
    "multiply_nums(\"54, 75, 453, 0\") ➞ 0\n",
    "\n",
    "multiply_nums(\"10, -2\") ➞ -20\"\"\"\n",
    "\n",
    "def multiply_nums(s):\n",
    "    l=s.split(\", \") # split the strin into a list where delimiter is \", \"\n",
    "    product=1\n",
    "    for i in l:\n",
    "        product=product*int(i)#typecast string to integer and multiply with previous product\n",
    "    return product\n",
    "s=\"10, -2\"\n",
    "print(multiply_nums(s))"
   ]
  },
  {
   "cell_type": "code",
   "execution_count": 4,
   "id": "9d4497bf",
   "metadata": {},
   "outputs": [
    {
     "data": {
      "text/plain": [
       "9414"
      ]
     },
     "execution_count": 4,
     "metadata": {},
     "output_type": "execute_result"
    }
   ],
   "source": [
    "\"\"\"Question 3\n",
    "Create a function that squares every digit of a number.\n",
    "Examples\n",
    "square_digits(9119) ➞ 811181\n",
    "\n",
    "square_digits(2483) ➞ 416649\n",
    "\n",
    "square_digits(3212) ➞ 9414\n",
    "Notes\n",
    "The function receives an integer and must return an integer.\"\"\"\n",
    "\n",
    "def square_digits(n):\n",
    "    i=n\n",
    "    sum=\"\"\n",
    "    while i!=0:\n",
    "        x=i%10\n",
    "        sum=sum+str(x**2)#create string out of obtained number\n",
    "        i=i//10\n",
    "    #reversing the obtained string\n",
    "    rev=\"\"\n",
    "    for j in sum:\n",
    "        rev=j+rev\n",
    "    return int(rev)\n",
    "square_digits(3212)\n"
   ]
  },
  {
   "cell_type": "code",
   "execution_count": 12,
   "id": "e48ea105",
   "metadata": {},
   "outputs": [
    {
     "name": "stdout",
     "output_type": "stream",
     "text": [
      "[1, 7, 8, 10, 15, 119]\n"
     ]
    }
   ],
   "source": [
    "\"\"\"Question 4\n",
    "Create a function that sorts a list and removes all duplicate items from it.\n",
    "Examples\n",
    "setify([1, 3, 3, 5, 5]) ➞ [1, 3, 5]\n",
    "\n",
    "setify([4, 4, 4, 4]) ➞ [4]\n",
    "\n",
    "setify([5, 7, 8, 9, 10, 15]) ➞ [5, 7, 8, 9, 10, 15]\n",
    "\n",
    "setify([3, 3, 3, 2, 1]) ➞ [1, 2, 3]\"\"\"\n",
    "\n",
    "def setify(l):\n",
    "    #deleting duplicates by converting to set \n",
    "    s=set(l)\n",
    "    l1=list(s)\n",
    "    #two loops for sorting the list l1\n",
    "    for i in range(len(l1)):\n",
    "        for j in range(i+1,len(l1)):\n",
    "            if l1[j]<l1[i]:\n",
    "                x=l[i]\n",
    "                l1[i]=l1[j]\n",
    "                l1[j]=x\n",
    "    return l1\n",
    "                \n",
    "        \n",
    "l=[1, 7, 8, 119, 10,10, 15]\n",
    "print(setify(l))\n"
   ]
  },
  {
   "cell_type": "code",
   "execution_count": 9,
   "id": "6171b8df",
   "metadata": {},
   "outputs": [
    {
     "name": "stdout",
     "output_type": "stream",
     "text": [
      "mean of digits is: 3\n"
     ]
    }
   ],
   "source": [
    "\"\"\"Question 5\n",
    "Create a function that returns the mean of all digits.\n",
    "Examples\n",
    "mean(42) ➞ 3\n",
    "\n",
    "mean(12345) ➞ 3\n",
    "\n",
    "mean(666) ➞ 6\n",
    "Notes\n",
    "•\tThe mean of all digits is the sum of digits / how many digits there are (e.g. mean of digits in 512 is (5+1+2)/3(number of digits) = 8/3=2).\n",
    "•\tThe mean will always be an integer.\"\"\"\n",
    "\n",
    "def mean(n):\n",
    "    sum=0\n",
    "    st=str(n)\n",
    "    l=len(st)\n",
    "    for i in st:\n",
    "        sum=sum+int(i)\n",
    "    return (sum//l)\n",
    "num=42\n",
    "print(\"mean of digits is:\",mean(num))"
   ]
  }
 ],
 "metadata": {
  "kernelspec": {
   "display_name": "Python 3 (ipykernel)",
   "language": "python",
   "name": "python3"
  },
  "language_info": {
   "codemirror_mode": {
    "name": "ipython",
    "version": 3
   },
   "file_extension": ".py",
   "mimetype": "text/x-python",
   "name": "python",
   "nbconvert_exporter": "python",
   "pygments_lexer": "ipython3",
   "version": "3.9.7"
  }
 },
 "nbformat": 4,
 "nbformat_minor": 5
}
