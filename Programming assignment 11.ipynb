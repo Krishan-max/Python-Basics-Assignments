{
 "cells": [
  {
   "cell_type": "code",
   "execution_count": 6,
   "id": "571458ea",
   "metadata": {},
   "outputs": [
    {
     "data": {
      "text/plain": [
       "['batch', 'ineuron', 'stack', 'science', 'course']"
      ]
     },
     "execution_count": 6,
     "metadata": {},
     "output_type": "execute_result"
    }
   ],
   "source": [
    "#1.\tWrite a Python program to find words which are greater than given length k?\n",
    "st1=\"We all are in one batch of ineuron full stack data science course\"\n",
    "l=st1.split()\n",
    "string=[]\n",
    "k=4\n",
    "for i in l:\n",
    "    if len(i)>k:\n",
    "        string.append(i)\n",
    "string\n"
   ]
  },
  {
   "cell_type": "code",
   "execution_count": 11,
   "id": "8b742f3a",
   "metadata": {},
   "outputs": [
    {
     "name": "stdout",
     "output_type": "stream",
     "text": [
      "Enter the position of character to be removed:2\n",
      "Wlcome\n"
     ]
    }
   ],
   "source": [
    "#2.\tWrite a Python program for removing i-th character from a string?\n",
    "st1=\"Welcome\"\n",
    "l=list(st1)\n",
    "i=int(input(\"Enter the position of character to be removed:\"))\n",
    "l.remove(l[i-1])\n",
    "st2=\"\".join(l)\n",
    "print(st2)"
   ]
  },
  {
   "cell_type": "code",
   "execution_count": 7,
   "id": "3283c00e",
   "metadata": {},
   "outputs": [
    {
     "name": "stdout",
     "output_type": "stream",
     "text": [
      "Enter the string:I am krishan\n",
      "Enter the separator:,\n",
      "I,am,krishan\n"
     ]
    }
   ],
   "source": [
    "#3.\tWrite a Python program to split and join a string?\n",
    "string=input(\"Enter the string:\")\n",
    "l=string.split()\n",
    "separator=input(\"Enter the separator:\")\n",
    "stringn=separator.join(l)\n",
    "print(stringn)"
   ]
  },
  {
   "cell_type": "code",
   "execution_count": 19,
   "id": "899c27f1",
   "metadata": {},
   "outputs": [
    {
     "name": "stdout",
     "output_type": "stream",
     "text": [
      "Yes\n"
     ]
    }
   ],
   "source": [
    "#4.\tWrite a Python to check if a given string is binary string or not?\n",
    "st=\"101100000000000000\"\n",
    "length=len(st)\n",
    "count=0\n",
    "for i in range(length):\n",
    "    if st[i]=='0' or st[i]=='1':\n",
    "        count=count+1\n",
    "    else:\n",
    "        break\n",
    "if count==length:\n",
    "    print(\"Yes\")\n",
    "else:\n",
    "    print(\"No\")\n"
   ]
  },
  {
   "cell_type": "code",
   "execution_count": 49,
   "id": "c7020c9e",
   "metadata": {},
   "outputs": [
    {
     "name": "stdout",
     "output_type": "stream",
     "text": [
      "['Is', 'C', 'Python', 'No']\n"
     ]
    }
   ],
   "source": [
    "#5.\tWrite a Python program to find uncommon words from two Strings?\n",
    "st1=\"Is this C language\"\n",
    "st2=\"No this Python language\"\n",
    "uc=[]\n",
    "s1=st1.split()\n",
    "s2=set(st2.split())\n",
    "\n",
    "for i in range(len(s1)):\n",
    "    if s1[i] not in s2:\n",
    "        uc=uc+[s1[i]]\n",
    "\n",
    "s1=set(s1)\n",
    "s2=list(s2)\n",
    "\n",
    "for j in range(len(s2)):\n",
    "    if s2[j] not in s1:\n",
    "        uc=uc+[s2[j]]\n",
    "print(uc)"
   ]
  },
  {
   "cell_type": "code",
   "execution_count": 58,
   "id": "4a7cf16b",
   "metadata": {},
   "outputs": [
    {
     "name": "stdout",
     "output_type": "stream",
     "text": [
      "Duplicate characters in This is python course are {'i', 'h', 'o', 's', ' '}\n"
     ]
    }
   ],
   "source": [
    "#6.\tWrite a Python to find all duplicate characters in string?\n",
    "st1=\"This is python course\"\n",
    "set1=set()\n",
    "set2=set()\n",
    "for i in st1:\n",
    "    if i in set1:\n",
    "        set2.add(i)\n",
    "    set1.add(i)\n",
    "print(\"Duplicate characters in\",st1,\"are\",set2)"
   ]
  },
  {
   "cell_type": "code",
   "execution_count": 75,
   "id": "57f06eb1",
   "metadata": {},
   "outputs": [
    {
     "name": "stdout",
     "output_type": "stream",
     "text": [
      "Yes there is a special character\n"
     ]
    }
   ],
   "source": [
    "#7.\tWrite a Python Program to check if a string contains any special character?\n",
    "import re\n",
    "st=\"0912AB*\"\n",
    "if len(re.findall(\"[a-z,A-Z,0-9]\",st))==len(st):\n",
    "    print(\"No special character\")\n",
    "else:\n",
    "    print(\"Yes there is a special character\")"
   ]
  }
 ],
 "metadata": {
  "kernelspec": {
   "display_name": "Python 3 (ipykernel)",
   "language": "python",
   "name": "python3"
  },
  "language_info": {
   "codemirror_mode": {
    "name": "ipython",
    "version": 3
   },
   "file_extension": ".py",
   "mimetype": "text/x-python",
   "name": "python",
   "nbconvert_exporter": "python",
   "pygments_lexer": "ipython3",
   "version": "3.9.7"
  }
 },
 "nbformat": 4,
 "nbformat_minor": 5
}
