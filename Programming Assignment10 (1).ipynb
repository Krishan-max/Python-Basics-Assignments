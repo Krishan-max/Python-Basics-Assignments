{
 "cells": [
  {
   "cell_type": "code",
   "execution_count": 3,
   "id": "6d9ae651",
   "metadata": {},
   "outputs": [
    {
     "name": "stdout",
     "output_type": "stream",
     "text": [
      "9\n"
     ]
    }
   ],
   "source": [
    "#1. Write a Python program to find sum of elements in list?\n",
    "l=[2,3,4]\n",
    "sum =0\n",
    "for i in l:\n",
    "    sum=sum+i\n",
    "print(sum)"
   ]
  },
  {
   "cell_type": "code",
   "execution_count": 4,
   "id": "aae29fa3",
   "metadata": {},
   "outputs": [
    {
     "name": "stdout",
     "output_type": "stream",
     "text": [
      "24\n"
     ]
    }
   ],
   "source": [
    "#2. Write a Python program to  Multiply all numbers in the list?\n",
    "l=[2,3,4]\n",
    "product=1\n",
    "for i in l:\n",
    "    product=product*i\n",
    "print(product)"
   ]
  },
  {
   "cell_type": "code",
   "execution_count": 6,
   "id": "a0d6f7ad",
   "metadata": {},
   "outputs": [
    {
     "name": "stdout",
     "output_type": "stream",
     "text": [
      "1\n"
     ]
    }
   ],
   "source": [
    "#3. Write a Python program to find smallest number in a list?\n",
    "l=[11,1,2]\n",
    "smallest=l[0]\n",
    "for i in l:\n",
    "    #assign smallest the current value if it is smaller than the previous smallest value\n",
    "    if i<smallest:\n",
    "        smallest=i \n",
    "print(smallest)"
   ]
  },
  {
   "cell_type": "code",
   "execution_count": 15,
   "id": "b24e2ca7",
   "metadata": {},
   "outputs": [
    {
     "name": "stdout",
     "output_type": "stream",
     "text": [
      "200\n"
     ]
    }
   ],
   "source": [
    "#4.\tWrite a Python program to find largest number in a list?\n",
    "l=[11,1,200]\n",
    "largest=l[0]\n",
    "for i in l:\n",
    "    #assign smallest the current value if it is smaller than the previous smallest value\n",
    "    if i>largest:\n",
    "        largest=i \n",
    "print(largest)"
   ]
  },
  {
   "cell_type": "code",
   "execution_count": 10,
   "id": "d5371ae2",
   "metadata": {},
   "outputs": [
    {
     "name": "stdout",
     "output_type": "stream",
     "text": [
      "15\n"
     ]
    }
   ],
   "source": [
    "#5.\tWrite a Python program to find second largest number in a list?\n",
    "l=[11,15,21]\n",
    "largest=l[0]\n",
    "for i in l:\n",
    "    if i>largest:\n",
    "        slargest=largest\n",
    "        largest=i\n",
    "print(slargest)\n"
   ]
  },
  {
   "cell_type": "code",
   "execution_count": null,
   "id": "04d6bdd4",
   "metadata": {},
   "outputs": [],
   "source": [
    "#6.\tWrite a Python program to find N largest elements from a list?\n",
    "def Nlargestelements(list2, N):\n",
    "    listN = []\n",
    "  \n",
    "    for i in range(0, N): \n",
    "        largest = 0\n",
    "          \n",
    "        for j in range(len(list2)):     \n",
    "            if list2[j] > largest:\n",
    "                largest = list2[j]\n",
    "                  \n",
    "        list1.remove(largest)\n",
    "        listN.append(largest)\n",
    "          \n",
    "    print(listN)\n",
    "\n",
    "list1=[300,23,122,44,55,67,6]\n",
    "N=int(input(\"Enter the value of N:\"))\n",
    "\n",
    "Nlargestelements(list1,N)"
   ]
  },
  {
   "cell_type": "code",
   "execution_count": 12,
   "id": "8a636f72",
   "metadata": {},
   "outputs": [
    {
     "name": "stdout",
     "output_type": "stream",
     "text": [
      "10\n",
      "12\n",
      "6\n"
     ]
    }
   ],
   "source": [
    "#7.\tWrite a Python program to print even numbers in a list?\n",
    "l=[11,10,12,21,6]\n",
    "for i in l:\n",
    "    if i%2==0:\n",
    "        print(i)"
   ]
  },
  {
   "cell_type": "code",
   "execution_count": 13,
   "id": "0a01684e",
   "metadata": {},
   "outputs": [
    {
     "name": "stdout",
     "output_type": "stream",
     "text": [
      "11\n",
      "21\n"
     ]
    }
   ],
   "source": [
    "#8.\tWrite a Python program to print odd numbers in a List?\n",
    "l=[11,10,12,21,6]\n",
    "for i in l:\n",
    "    if i%2!=0:\n",
    "        print(i)\n"
   ]
  },
  {
   "cell_type": "code",
   "execution_count": 33,
   "id": "53a4ad03",
   "metadata": {},
   "outputs": [
    {
     "name": "stdout",
     "output_type": "stream",
     "text": [
      "[3, 4, 5, 5]\n"
     ]
    }
   ],
   "source": [
    "#9.\tWrite a Python program to Remove empty List from List?\n",
    "l=[3,[],4,5,5,[],[],[],[]]\n",
    "length=len(l)\n",
    "i=0\n",
    "while i<length:\n",
    "    if l[i]==[]:\n",
    "        l.remove([])\n",
    "        i=i-1\n",
    "    length=len(l)\n",
    "    i=i+1\n",
    "print(l)"
   ]
  },
  {
   "cell_type": "code",
   "execution_count": 17,
   "id": "3974842c",
   "metadata": {},
   "outputs": [
    {
     "data": {
      "text/plain": [
       "[11, 10, 12, 21, 6]"
      ]
     },
     "execution_count": 17,
     "metadata": {},
     "output_type": "execute_result"
    }
   ],
   "source": [
    "#10.\tWrite a Python program to Cloning or Copying a list?\n",
    "l=[11,10,12,21,6]\n",
    "lcopy=[i for i in l]"
   ]
  },
  {
   "cell_type": "code",
   "execution_count": 6,
   "id": "81d4383f",
   "metadata": {},
   "outputs": [
    {
     "name": "stdout",
     "output_type": "stream",
     "text": [
      "Enter the element to be found:6\n",
      "3\n"
     ]
    }
   ],
   "source": [
    "#11.\tWrite a Python program to Count occurrences of an element in a list?\n",
    "l=[11,10,12,21,6,6,6,12]\n",
    "count=0\n",
    "element=int(input(\"Enter the element to be found:\"))\n",
    "for i in l:\n",
    "    if i==element:\n",
    "        count=count+1\n",
    "print(count)"
   ]
  }
 ],
 "metadata": {
  "kernelspec": {
   "display_name": "Python 3 (ipykernel)",
   "language": "python",
   "name": "python3"
  },
  "language_info": {
   "codemirror_mode": {
    "name": "ipython",
    "version": 3
   },
   "file_extension": ".py",
   "mimetype": "text/x-python",
   "name": "python",
   "nbconvert_exporter": "python",
   "pygments_lexer": "ipython3",
   "version": "3.9.7"
  }
 },
 "nbformat": 4,
 "nbformat_minor": 5
}
