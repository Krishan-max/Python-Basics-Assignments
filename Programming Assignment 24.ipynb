{
 "cells": [
  {
   "cell_type": "code",
   "execution_count": 5,
   "id": "31347dba",
   "metadata": {},
   "outputs": [
    {
     "name": "stdout",
     "output_type": "stream",
     "text": [
      "[1, 2, 3, 40, 5, 6, 7, 80, 9, 10, 11, 120, 13, 14, 15, 160, 17, 18, 19, 200, 21, 22, 23, 240, 25]\n"
     ]
    }
   ],
   "source": [
    "\"\"\"Question1\n",
    "Create a function that takes an integer and returns a list from 1 to the given number, where:\n",
    "1.\tIf the number can be divided evenly by 4, amplify it by 10 (i.e. return 10 times the number).\n",
    "2.\tIf the number cannot be divided evenly by 4, simply return the number.\n",
    "Examples\n",
    "amplify(4) ➞ [1, 2, 3, 40]\n",
    "\n",
    "amplify(3) ➞ [1, 2, 3]\n",
    "\n",
    "amplify(25) ➞ [1, 2, 3, 40, 5, 6, 7, 80, 9, 10, 11, 120, 13, 14, 15, 160, 17, 18, 19, 200, 21, 22, 23, 240, 25]\n",
    "Notes\n",
    "•\tThe given integer will always be equal to or greater than 1.\n",
    "•\tInclude the number (see example above).\n",
    "•\tTo perform this problem with its intended purpose, try doing it with list comprehensions. If that's too difficult, just solve the challenge any way you can.\n",
    "\n",
    "\"\"\"\n",
    "def amplify(n):\n",
    "    l1=[i*10 if i%4==0 else i for i in range(1,n+1)]\n",
    "    return l1\n",
    "print(amplify(25))\n",
    "\n",
    "\n",
    "\n",
    "\n",
    "\n"
   ]
  },
  {
   "cell_type": "code",
   "execution_count": 9,
   "id": "c9f79151",
   "metadata": {},
   "outputs": [
    {
     "name": "stdout",
     "output_type": "stream",
     "text": [
      "1.7\n"
     ]
    }
   ],
   "source": [
    "\"\"\"Question2\n",
    "Create a function that takes a list of numbers and return the number that's unique.\n",
    "Examples\n",
    "unique([3, 3, 3, 7, 3, 3]) ➞ 7\n",
    "\n",
    "unique([0, 0, 0.77, 0, 0]) ➞ 0.77\n",
    "\n",
    "unique([0, 1, 1, 1, 1, 1, 1, 1]) ➞ 0\n",
    "Notes\n",
    "Test cases will always have exactly one unique number while all others are the same.\"\"\"\n",
    "def unique(l):\n",
    "    first=l[0]\n",
    "    i=1\n",
    "    flag=0\n",
    "    while i<len(l):\n",
    "        if l[i]==first:\n",
    "            i=i+1\n",
    "            flag=1\n",
    "        elif flag==0:\n",
    "            if l[i]==l[i+1]:\n",
    "                return first\n",
    "            else:\n",
    "                return l[i]\n",
    "        elif flag==1 and l[i]!=first:\n",
    "            return l[i]\n",
    "        else:\n",
    "            i=i+1\n",
    "print(unique([1,1,1,1.7]))"
   ]
  },
  {
   "cell_type": "code",
   "execution_count": 16,
   "id": "66327ef5",
   "metadata": {},
   "outputs": [
    {
     "name": "stdout",
     "output_type": "stream",
     "text": [
      "Area: 380.1336\n",
      "Perimeter: 69.1152\n"
     ]
    }
   ],
   "source": [
    "\"\"\"Question3\n",
    "Your task is to create a Circle constructor that creates a circle with a radius provided by an argument. The circles constructed must have two getters getArea() (PIr^2) and getPerimeter() (2PI*r) which give both respective areas and perimeter (circumference).\n",
    "For help with this class, I have provided you with a Rectangle constructor which you can use as a base example.\n",
    "Examples\n",
    "circy = Circle(11)\n",
    "circy.getArea()\n",
    "\n",
    "# Should return 380.132711084365\n",
    "\n",
    "circy = Circle(4.44)\n",
    "circy.getPerimeter()\n",
    "\n",
    "# Should return 27.897342763877365\n",
    "Notes\n",
    "Round results up to the nearest integer.\"\"\"\n",
    "\n",
    "class Circle:\n",
    "    def __init__(self,radius):\n",
    "        self.radius=radius\n",
    "    def getArea(self):\n",
    "        area = 3.1416*(self.radius)**2\n",
    "        return area\n",
    "    def getPerimeter(self):\n",
    "        perimetre=2*3.1416*self.radius\n",
    "        return perimetre\n",
    "a=Circle(11)\n",
    "print(\"Area:\",a.getArea())\n",
    "print(\"Perimeter:\",a.getPerimeter())\n"
   ]
  },
  {
   "cell_type": "code",
   "execution_count": 8,
   "id": "97f0525c",
   "metadata": {},
   "outputs": [
    {
     "name": "stdout",
     "output_type": "stream",
     "text": [
      "['Jung', 'Turing', 'Einstein']\n"
     ]
    }
   ],
   "source": [
    "\"\"\"Question4\n",
    "Create a function that takes a list of strings and return a list, sorted from shortest to longest.\n",
    "Examples\n",
    "sort_by_length([\"Google\", \"Apple\", \"Microsoft\"])\n",
    "➞ [\"Apple\", \"Google\", \"Microsoft\"]\n",
    "\n",
    "sort_by_length([\"Leonardo\", \"Michelangelo\", \"Raphael\", \"Donatello\"])\n",
    "➞ [\"Raphael\", \"Leonardo\", \"Donatello\", \"Michelangelo\"]\n",
    "\n",
    "sort_by_length([\"Turing\", \"Einstein\", \"Jung\"])\n",
    "➞ [\"Jung\", \"Turing\", \"Einstein\"]\n",
    "Notes\n",
    "All test cases contain lists with strings of different lengths, so you won't have to deal with multiple strings of the same length.\n",
    "\"\"\"\n",
    "def sort_by_length(l):\n",
    "    l2=[x for x in l]\n",
    "    str_len=[]\n",
    "    for y in l:\n",
    "        str_len.append(len(y))\n",
    "    str_len.sort()\n",
    "    for z in l:\n",
    "        for a in range(len(str_len)):\n",
    "            if len(z)==str_len[a]:\n",
    "                l2[a]=z\n",
    "                \n",
    "    return l2\n",
    "l=[\"Turing\", \"Einstein\", \"Jung\"]\n",
    "print(sort_by_length(l))"
   ]
  },
  {
   "cell_type": "code",
   "execution_count": 6,
   "id": "f12f1ba7",
   "metadata": {},
   "outputs": [
    {
     "name": "stdout",
     "output_type": "stream",
     "text": [
      "True\n"
     ]
    }
   ],
   "source": [
    "\"\"\"Question5\n",
    "Create a function that validates whether three given integers form a Pythagorean triplet. The sum of the squares of the two smallest integers must equal the square of the largest number to be validated.\n",
    "Examples\n",
    "is_triplet(3, 4, 5) ➞ True\n",
    "# 3² + 4² = 25\n",
    "# 5² = 25\n",
    "\n",
    "is_triplet(13, 5, 12) ➞ True\n",
    "# 5² + 12² = 169\n",
    "# 13² = 169\n",
    "\n",
    "is_triplet(1, 2, 3) ➞ False\n",
    "# 1² + 2² = 5\n",
    "# 3² = 9\n",
    "Notes\n",
    "Numbers may not be given in a sorted order.\"\"\"\n",
    "def is_triplet(x,y,z):\n",
    "    large=x\n",
    "    s1=y\n",
    "    s2=z\n",
    "    if y>x and y>z:\n",
    "        large=y\n",
    "        s1=x\n",
    "    if z>x and z>y:\n",
    "        large=z\n",
    "        s2=x\n",
    "    if s1**2+s2**2==large**2:\n",
    "        return True\n",
    "    else:\n",
    "        return False\n",
    "print(is_triplet(5,12,13))"
   ]
  }
 ],
 "metadata": {
  "kernelspec": {
   "display_name": "Python 3 (ipykernel)",
   "language": "python",
   "name": "python3"
  },
  "language_info": {
   "codemirror_mode": {
    "name": "ipython",
    "version": 3
   },
   "file_extension": ".py",
   "mimetype": "text/x-python",
   "name": "python",
   "nbconvert_exporter": "python",
   "pygments_lexer": "ipython3",
   "version": "3.9.7"
  }
 },
 "nbformat": 4,
 "nbformat_minor": 5
}
