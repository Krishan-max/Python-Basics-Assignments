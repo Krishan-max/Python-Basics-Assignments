{
 "cells": [
  {
   "cell_type": "code",
   "execution_count": 6,
   "id": "52299b90",
   "metadata": {},
   "outputs": [
    {
     "name": "stdout",
     "output_type": "stream",
     "text": [
      "10\n"
     ]
    }
   ],
   "source": [
    "#1.\tWrite a Python Program to find sum of array?\n",
    "import array as arr\n",
    "sum=0\n",
    "a=arr.array(\"i\",[1,2,3,4])\n",
    "\n",
    "for j in a:\n",
    "    sum=sum+j\n",
    "print(sum)"
   ]
  },
  {
   "cell_type": "code",
   "execution_count": 13,
   "id": "4e860721",
   "metadata": {},
   "outputs": [
    {
     "name": "stdout",
     "output_type": "stream",
     "text": [
      "34\n"
     ]
    }
   ],
   "source": [
    "#2.\tWrite a Python Program to find largest element in an array?\n",
    "import array as arr\n",
    "a=arr.array(\"i\",[11,8,34,4])\n",
    "largest=a[0]\n",
    "for j in a:\n",
    "    if j>largest:\n",
    "        largest=j\n",
    "print(largest)"
   ]
  },
  {
   "cell_type": "code",
   "execution_count": 68,
   "id": "55e50997",
   "metadata": {},
   "outputs": [
    {
     "data": {
      "text/plain": [
       "[2, 3, 4, 5, 6, 1]"
      ]
     },
     "execution_count": 68,
     "metadata": {},
     "output_type": "execute_result"
    }
   ],
   "source": [
    "#3.\tWrite a Python Program for array rotation?\n",
    "import array as arr\n",
    "a=arr.array('i',[1,2,3,4,5,6])\n",
    "k=list(a) #typecast to list\n",
    "n=7 #rotate by number of elements\n",
    "s=k[n%len(a):len(a)]+k[0:n%len(a)]#Used % to take modulus wnen n greater than length of array.\n",
    "s"
   ]
  },
  {
   "cell_type": "code",
   "execution_count": 70,
   "id": "08b9a11b",
   "metadata": {},
   "outputs": [
    {
     "data": {
      "text/plain": [
       "[4, 5, 6, 1, 2, 3]"
      ]
     },
     "execution_count": 70,
     "metadata": {},
     "output_type": "execute_result"
    }
   ],
   "source": [
    "#3.\tWrite a Python Program for array rotation?\n",
    "import array as arr\n",
    "a=arr.array('i',[1,2,3,4,5,6])\n",
    "k=list(a) #typecast to list\n",
    "n=3 #length of first part\n",
    "s=k[n:len(a)]+k[0:n]\n",
    "s"
   ]
  },
  {
   "cell_type": "code",
   "execution_count": 47,
   "id": "d2d9611e",
   "metadata": {},
   "outputs": [
    {
     "name": "stdout",
     "output_type": "stream",
     "text": [
      "monotonic increasing\n"
     ]
    }
   ],
   "source": [
    "#5.\tWrite a Python Program to check if given array is Monotonic?\n",
    "import array as arr\n",
    "flag=0\n",
    "flag2=0\n",
    "a=arr.array(\"i\",[4,4,7,20,101])\n",
    "for j in range(len(a)-1):\n",
    "    if a[j+1]>a[j]:\n",
    "        flag=flag+1\n",
    "    elif a[j+1]<a[j]:\n",
    "        flag2=flag2+1\n",
    "if flag==0 or flag2==0:\n",
    "    if flag!=0:\n",
    "        print(\"monotonic increasing\")\n",
    "    else:\n",
    "        print(\"monotonic decreasing\")    \n",
    "else:\n",
    "    print(\"not-monotonic\")"
   ]
  }
 ],
 "metadata": {
  "kernelspec": {
   "display_name": "Python 3 (ipykernel)",
   "language": "python",
   "name": "python3"
  },
  "language_info": {
   "codemirror_mode": {
    "name": "ipython",
    "version": 3
   },
   "file_extension": ".py",
   "mimetype": "text/x-python",
   "name": "python",
   "nbconvert_exporter": "python",
   "pygments_lexer": "ipython3",
   "version": "3.9.7"
  }
 },
 "nbformat": 4,
 "nbformat_minor": 5
}
