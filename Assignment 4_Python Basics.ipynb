{
 "cells": [
  {
   "cell_type": "code",
   "execution_count": null,
   "id": "f1a30a62",
   "metadata": {},
   "outputs": [],
   "source": [
    "1. [] represents an empty list i.e. a list without any items.\n",
    "2. spam[2]='hello'\n",
    "3. 'd'\n",
    "4. 'd'\n",
    "5. ['a', 'b']\n",
    "6. 1\n",
    "7. It will append 99 at the end of list and make it [3.14, 'cat', 11, 'cat', True, 99].\n",
    "8. It will remove the first value cat from the list and make it [3.14, 11, 'cat', True]\n",
    "\n",
    "9. + is list concatenation operator which concatenates two or more lists like if we have l1=[1,2,3] and l2=[4,5,6] then l1+l2\n",
    "will be [1,2,3,4,5,6]. \n",
    "* is list replication operator. if we have l1=[1,2,3] then l1*3 will be [1,2,3,1,2,3]\n",
    "\n",
    "10. append() inserts an element at the ends of the list. It takes one argument and its syntax is listname.append(element).\n",
    "    insert() inserts the element at an index. It takes two arguments and its syntax is listname.insert(index,element).\n",
    "11. pop() and remove()\n",
    "12.List and string both are sequence.\n",
    "13.List is mutable and tuples are immutable. We use [] in list but () in tuple.\n",
    "14.(42,)\n",
    "15.tuple(list_name): coversion of list to tuple\n",
    "list(tuple_name):Conversion of tuple to list\n",
    "    \n",
    "16. Reference to the list values.\n",
    "17.copy.copy() constructs a new object and populates it with references to the child object found in the original.\n",
    "   copy.deepcopy() constructs a new object and then recursively inserts copies into it from the original object.\n"
   ]
  }
 ],
 "metadata": {
  "kernelspec": {
   "display_name": "Python 3 (ipykernel)",
   "language": "python",
   "name": "python3"
  },
  "language_info": {
   "codemirror_mode": {
    "name": "ipython",
    "version": 3
   },
   "file_extension": ".py",
   "mimetype": "text/x-python",
   "name": "python",
   "nbconvert_exporter": "python",
   "pygments_lexer": "ipython3",
   "version": "3.9.7"
  }
 },
 "nbformat": 4,
 "nbformat_minor": 5
}
