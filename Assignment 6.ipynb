{
 "cells": [
  {
   "cell_type": "code",
   "execution_count": 2,
   "id": "de42b54f",
   "metadata": {},
   "outputs": [
    {
     "ename": "SyntaxError",
     "evalue": "invalid syntax (Temp/ipykernel_916/1655892138.py, line 1)",
     "output_type": "error",
     "traceback": [
      "\u001b[1;36m  File \u001b[1;32m\"C:\\Users\\dell\\AppData\\Local\\Temp/ipykernel_916/1655892138.py\"\u001b[1;36m, line \u001b[1;32m1\u001b[0m\n\u001b[1;33m    1. Escape characters allow you to include special characters in a string. Use backslash \\ followed by the character you want to insert.\u001b[0m\n\u001b[1;37m       ^\u001b[0m\n\u001b[1;31mSyntaxError\u001b[0m\u001b[1;31m:\u001b[0m invalid syntax\n"
     ]
    }
   ],
   "source": [
    "1. Escape characters allow you to include special characters in a string. Use backslash \\ followed by the character you want to insert.\n",
    "Example: Lets Say we want to print Hello \"Boys\" then we will write print(\"Hello\\\"Boys\\\"\")\n",
    "\n",
    "2. n stands for newline and t stands for Tab.\n",
    "\n",
    "3. using \\\\ for example to print \"A\\B\" we will have to write print(\"A\\\\B\").\n",
    "\n",
    "4. It is not a problem because the entire string is in double quotes and not single quotes.\n",
    "\n",
    "5. print() function by default adds newline character at the end so if you write two strings in two different print()\n",
    "functions they will be added to newline only.\n",
    "example:\n",
    "    print(\"Hi\")\n",
    "    print(\"Manish\")\n",
    "will get printed as\n",
    "Hi\n",
    "Manish\n",
    "\n",
    "6.'Hello, world!'[1] will give e\n",
    "'Hello, world!'[0:5] will give Hello\n",
    "'Hello, world!'[:5] will give Hello\n",
    "'Hello, world!'[3:] will give lo, world!\n",
    "\n",
    "7. 'Hello'.upper() will give HELLO\n",
    "\n",
    "'Hello'.upper().isupper() will give True\n",
    "\n",
    "'Hello'.upper().lower() will give hello\n",
    "\n",
    "8. 'Remember, remember, the fifth of July.'.split() will give ['Remember,', 'remember,', 'the', 'fifth', 'of', 'July.']\n",
    "\n",
    "'-'.join('There can only one.'.split()) will give There-can-only-one.\n",
    "\n",
    "9. Use rjust(), ljust(), center()\n",
    "\n",
    "10. Use lstrip(), rstrip()"
   ]
  }
 ],
 "metadata": {
  "kernelspec": {
   "display_name": "Python 3 (ipykernel)",
   "language": "python",
   "name": "python3"
  },
  "language_info": {
   "codemirror_mode": {
    "name": "ipython",
    "version": 3
   },
   "file_extension": ".py",
   "mimetype": "text/x-python",
   "name": "python",
   "nbconvert_exporter": "python",
   "pygments_lexer": "ipython3",
   "version": "3.9.7"
  }
 },
 "nbformat": 4,
 "nbformat_minor": 5
}
