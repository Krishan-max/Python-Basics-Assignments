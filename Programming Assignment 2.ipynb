{
 "cells": [
  {
   "cell_type": "code",
   "execution_count": 2,
   "id": "1dc417f3",
   "metadata": {},
   "outputs": [
    {
     "name": "stdout",
     "output_type": "stream",
     "text": [
      "Enter distance in km:334\n",
      "Distance in miles is: 207.5142\n"
     ]
    }
   ],
   "source": [
    "#1.\tWrite a Python program to convert kilometers to miles?\n",
    "#Function to convert distance from km to miles\n",
    "def kmtomiles(distance):\n",
    "    return 0.6213*distance\n",
    "distance=int(input(\"Enter distance in km:\"))\n",
    "print(\"Distance in miles is:\", kmtomiles(distance))\n"
   ]
  },
  {
   "cell_type": "code",
   "execution_count": 1,
   "id": "554cc4df",
   "metadata": {},
   "outputs": [
    {
     "name": "stdout",
     "output_type": "stream",
     "text": [
      "Enter Temperature in Celcius:44\n",
      "Temperature in Fahrenheit: 111.2\n"
     ]
    }
   ],
   "source": [
    "#2.\tWrite a Python program to convert Celsius to Fahrenheit?\n",
    "#Function to convert celcius to Fahrenheit\n",
    "def celtoF(tem):\n",
    "    return (9*tem/5)+32\n",
    "tem=int(input(\"Enter Temperature in Celcius:\"))\n",
    "print(\"Temperature in Fahrenheit:\",celtoF(tem))"
   ]
  },
  {
   "cell_type": "code",
   "execution_count": 10,
   "id": "4d94c38d",
   "metadata": {},
   "outputs": [
    {
     "name": "stdout",
     "output_type": "stream",
     "text": [
      "Enter year: 2022\n",
      "Enter month in xx format: 06\n",
      "     June 2022\n",
      "Mo Tu We Th Fr Sa Su\n",
      "       1  2  3  4  5\n",
      " 6  7  8  9 10 11 12\n",
      "13 14 15 16 17 18 19\n",
      "20 21 22 23 24 25 26\n",
      "27 28 29 30\n",
      "\n"
     ]
    }
   ],
   "source": [
    "#3.\tWrite a Python program to display calendar?\n",
    "\n",
    "import calendar\n",
    " \n",
    "# To take month and year input from the user\n",
    "year = int(input(\"Enter year: \"))\n",
    "month = int(input(\"Enter month in xx format: \"))\n",
    "\n",
    "# display the calendar\n",
    "print(calendar.month(year, month))"
   ]
  },
  {
   "cell_type": "code",
   "execution_count": 3,
   "id": "d187c16e",
   "metadata": {},
   "outputs": [
    {
     "name": "stdout",
     "output_type": "stream",
     "text": [
      "For quadratic equation ax^2+bx+c\n",
      "Enter coefficient a:1\n",
      "Enter coefficient b:3\n",
      "Enter constant c:55\n",
      "Does not have real roots. Imaginary roots are (-1.5+7.262919523166975j) , (-1.5-7.262919523166975j)\n"
     ]
    }
   ],
   "source": [
    "#4.\tWrite a Python program to solve quadratic equation?\n",
    "import math\n",
    "print(\"For quadratic equation ax^2+bx+c\")\n",
    "a=float(input(\"Enter coefficient a:\"))\n",
    "b=float(input(\"Enter coefficient b:\"))\n",
    "c=float(input(\"Enter constant c:\"))\n",
    "discriminant=b**2-4*a*c\n",
    "if discriminant>=0:\n",
    "    root1=(-b+math.sqrt(discriminant))/(2*a)\n",
    "    root2=(-b-math.sqrt(discriminant))/(2*a)\n",
    "    print(\"Roots are:\",root1,\",\",root2)\n",
    "else:\n",
    "    root1=complex(-b/(2*a),math.sqrt(-discriminant)/(2*a))\n",
    "    root2=complex(-b/(2*a),-math.sqrt(-discriminant)/(2*a))\n",
    "    print(\"Does not have real roots. Imaginary roots are\",root1,\",\",root2)\n",
    "\n"
   ]
  },
  {
   "cell_type": "code",
   "execution_count": 9,
   "id": "1d2feed8",
   "metadata": {},
   "outputs": [
    {
     "name": "stdout",
     "output_type": "stream",
     "text": [
      "Enter first variable a:call\n",
      "Enter second variable b:me\n",
      "a= me\n",
      "b= call\n"
     ]
    }
   ],
   "source": [
    "#5.\tWrite a Python program to swap two variables without temp variable?\n",
    "a=input(\"Enter first variable a:\")\n",
    "b=input(\"Enter second variable b:\")\n",
    "a,b=b,a\n",
    "print(\"a=\",a)\n",
    "print(\"b=\",b)"
   ]
  }
 ],
 "metadata": {
  "kernelspec": {
   "display_name": "Python 3 (ipykernel)",
   "language": "python",
   "name": "python3"
  },
  "language_info": {
   "codemirror_mode": {
    "name": "ipython",
    "version": 3
   },
   "file_extension": ".py",
   "mimetype": "text/x-python",
   "name": "python",
   "nbconvert_exporter": "python",
   "pygments_lexer": "ipython3",
   "version": "3.9.7"
  }
 },
 "nbformat": 4,
 "nbformat_minor": 5
}
