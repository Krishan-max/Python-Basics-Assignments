{
 "cells": [
  {
   "cell_type": "code",
   "execution_count": 1,
   "id": "67503cef",
   "metadata": {},
   "outputs": [
    {
     "name": "stdout",
     "output_type": "stream",
     "text": [
      "Hello Python\n"
     ]
    }
   ],
   "source": [
    "#1.\tWrite a Python program to print \"Hello Python\"?\n",
    "print(\"Hello Python\")"
   ]
  },
  {
   "cell_type": "code",
   "execution_count": 5,
   "id": "834b2ae8",
   "metadata": {},
   "outputs": [
    {
     "name": "stdout",
     "output_type": "stream",
     "text": [
      "Enter d for divison and a for addition:d\n",
      "enter the dividend:6\n",
      "enter the divisor number:3\n",
      "2.0\n"
     ]
    }
   ],
   "source": [
    "#2.\tWrite a Python program to do arithmetical operations addition and division.?\n",
    "def arith (op):\n",
    "    if op==\"d\":\n",
    "        n1=int(input(\"enter the dividend:\"))\n",
    "        n2=int(input(\"enter the divisor number:\"))\n",
    "        return n1/n2\n",
    "    elif op==\"a\":\n",
    "        n1=int(input(\"enter first number:\"))\n",
    "        n2=int(input(\"enter second number:\"))\n",
    "        return n1+n2\n",
    "\n",
    "op=input(\"Enter d for divison and a for addition:\")\n",
    "print(arith(op))"
   ]
  },
  {
   "cell_type": "code",
   "execution_count": 9,
   "id": "86231135",
   "metadata": {},
   "outputs": [
    {
     "name": "stdout",
     "output_type": "stream",
     "text": [
      "Enter base of triangle in cm:3\n",
      "Enter height of the traingle in cm:4\n",
      "Area of the triangle is: 6.0 sq cm\n"
     ]
    }
   ],
   "source": [
    "#3.\tWrite a Python program to find the area of a triangle?\n",
    "def areat(base,height):\n",
    "    return 0.5*base*height\n",
    "\n",
    "base=int(input(\"Enter base of triangle in cm:\"))\n",
    "height=int(input(\"Enter height of the traingle in cm:\"))\n",
    "print(\"Area of the triangle is:\",areat(base,height), \"sq. cm\")\n"
   ]
  },
  {
   "cell_type": "code",
   "execution_count": 16,
   "id": "9ad34105",
   "metadata": {},
   "outputs": [
    {
     "name": "stdout",
     "output_type": "stream",
     "text": [
      "a = 3\n",
      "b = 2\n"
     ]
    }
   ],
   "source": [
    "#4.\tWrite a Python program to swap two variables?\n",
    "def swap():\n",
    "    global a\n",
    "    global b\n",
    "    s=a\n",
    "    a=b\n",
    "    b=s\n",
    "a=2\n",
    "b=3\n",
    "swap()\n",
    "print(\"a =\",a)\n",
    "print(\"b =\",b)\n"
   ]
  },
  {
   "cell_type": "code",
   "execution_count": 18,
   "id": "f504ac68",
   "metadata": {},
   "outputs": [
    {
     "name": "stdout",
     "output_type": "stream",
     "text": [
      "29\n"
     ]
    }
   ],
   "source": [
    "#5.\tWrite a Python program to generate a random number?\n",
    "import random\n",
    "rand_number=random.randint(0,100)\n",
    "print(rand_number)"
   ]
  }
 ],
 "metadata": {
  "kernelspec": {
   "display_name": "Python 3 (ipykernel)",
   "language": "python",
   "name": "python3"
  },
  "language_info": {
   "codemirror_mode": {
    "name": "ipython",
    "version": 3
   },
   "file_extension": ".py",
   "mimetype": "text/x-python",
   "name": "python",
   "nbconvert_exporter": "python",
   "pygments_lexer": "ipython3",
   "version": "3.9.7"
  }
 },
 "nbformat": 4,
 "nbformat_minor": 5
}
