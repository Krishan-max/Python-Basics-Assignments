{
 "cells": [
  {
   "cell_type": "markdown",
   "id": "cd5caa16",
   "metadata": {},
   "source": [
    "Assignment 3\n",
    "1.\tFunctions enable reuse of code, improves maintenance, increases readability of code.\n",
    "2.\tWhen it’s called.\n",
    "3.\tdef function_name(arg1, arg2…….):\n",
    "        statement1\n",
    "4. A function is a reusable block of code which executes only when it is called.\n",
    "   A function call is used to invoke or call a function to execute. When we write a function call the    control passes to the      function and it gets executed. \n",
    "5. 1 global scope and a local scope is created whenever a function is called.\n",
    "6. The variable in local scope gets destroyed after function returns.\n",
    "7. It is the value that a function returns to the caller after the function has completed its task. Yes we can use a return        value in an expression. \n",
    "8. None\n",
    "9. By using the keyword global inside the function, example:  Let us say we have a global variable x      =10, now for modifying    it inside a function or make a function variable refer to global variable we    can use\n",
    "   def sample():\n",
    "       global x\n",
    "       x=3\n",
    "10. None\n",
    "11. It will import the named areallyourpetsnamederic.\n",
    "12. spam.bacon()\n",
    "13. We can place that piece of code which can cause error in the try clause.\n",
    "14. Try clause is used to handle exception errors in a piece of code. If their is no exception error in the piece of code under     try clause then it will be executed else the code under except clause will be executed. \n"
   ]
  },
  {
   "cell_type": "code",
   "execution_count": null,
   "id": "2cc92134",
   "metadata": {},
   "outputs": [],
   "source": []
  },
  {
   "cell_type": "code",
   "execution_count": null,
   "id": "dd9043da",
   "metadata": {},
   "outputs": [],
   "source": [
    "    "
   ]
  }
 ],
 "metadata": {
  "kernelspec": {
   "display_name": "Python 3 (ipykernel)",
   "language": "python",
   "name": "python3"
  },
  "language_info": {
   "codemirror_mode": {
    "name": "ipython",
    "version": 3
   },
   "file_extension": ".py",
   "mimetype": "text/x-python",
   "name": "python",
   "nbconvert_exporter": "python",
   "pygments_lexer": "ipython3",
   "version": "3.9.7"
  }
 },
 "nbformat": 4,
 "nbformat_minor": 5
}
