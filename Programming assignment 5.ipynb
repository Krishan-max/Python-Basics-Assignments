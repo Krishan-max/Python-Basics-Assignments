{
 "cells": [
  {
   "cell_type": "code",
   "execution_count": 5,
   "id": "83ad8c61",
   "metadata": {},
   "outputs": [
    {
     "name": "stdout",
     "output_type": "stream",
     "text": [
      "180\n"
     ]
    }
   ],
   "source": [
    "#1.\tWrite a Python Program to Find LCM?\n",
    "num1=90\n",
    "num2=60\n",
    "if num1<num2:\n",
    "    greater=num2\n",
    "else:\n",
    "    greater=num1\n",
    "while True:\n",
    "    if greater%num1==0 and greater%num2==0:\n",
    "        lcm=greater\n",
    "        break\n",
    "    greater=greater+1\n",
    "print(lcm)"
   ]
  },
  {
   "cell_type": "code",
   "execution_count": 1,
   "id": "7d3ff3a7",
   "metadata": {},
   "outputs": [
    {
     "name": "stdout",
     "output_type": "stream",
     "text": [
      "12\n"
     ]
    }
   ],
   "source": [
    "#2.\tWrite a Python Program to Find HCF?\n",
    "num1=12\n",
    "num2=120\n",
    "hcf=1\n",
    "if num1<num2:\n",
    "    smaller=num1\n",
    "else:\n",
    "    smaller=num2\n",
    "for x in range(1,smaller+1):\n",
    "    if num1%x==0 and num2%x==0:\n",
    "        hcf=x\n",
    "print(hcf)"
   ]
  },
  {
   "cell_type": "code",
   "execution_count": 38,
   "id": "a6f0af75",
   "metadata": {},
   "outputs": [
    {
     "name": "stdout",
     "output_type": "stream",
     "text": [
      "Enter the number to be converted:12\n",
      "Binary: 1100\n",
      "Octal: 14\n",
      "Hexadecimal: C\n"
     ]
    }
   ],
   "source": [
    "#3.\tWrite a Python Program to Convert Decimal to Binary, Octal and Hexadecimal?\n",
    "def dtobin(num):\n",
    "    bin=\"\"\n",
    "    while num>=1:\n",
    "        rem=num%2\n",
    "        num=num//2\n",
    "        bin=bin+str(rem)\n",
    "    return bin\n",
    "def dtooct(num):\n",
    "    oct=\"\"\n",
    "    while num>=1:\n",
    "        rem=num%8\n",
    "        num=num//8\n",
    "        oct=oct+str(rem)\n",
    "    return oct\n",
    "\n",
    "def dtohex(num):\n",
    "    conversion_table = {0: '0', 1: '1', 2: '2', 3: '3', 4: '4',\n",
    "                    5: '5', 6: '6', 7: '7',\n",
    "                    8: '8', 9: '9', 10: 'A', 11: 'B', 12: 'C',\n",
    "                    13: 'D', 14: 'E', 15: 'F'}\n",
    "    hex=\"\"\n",
    "    while num>=1:\n",
    "        rem=num%16\n",
    "        num=num//16\n",
    "        hex=hex+conversion_table[rem]\n",
    "    return hex\n",
    "num=int(input(\"Enter the number to be converted:\"))\n",
    "print(\"Binary:\",dtobin(num)[::-1])\n",
    "print(\"Octal:\",dtooct(num)[::-1])\n",
    "print(\"Hexadecimal:\",dtohex(num)[::-1])"
   ]
  },
  {
   "cell_type": "code",
   "execution_count": 44,
   "id": "93809ca6",
   "metadata": {},
   "outputs": [
    {
     "name": "stdout",
     "output_type": "stream",
     "text": [
      "Enter the character whose ASCII value is required:A\n",
      "ASCII value of A is 65\n"
     ]
    }
   ],
   "source": [
    "#4.\tWrite a Python Program To Find ASCII value of a character?\n",
    "c=input(\"Enter the character whose ASCII value is required:\")\n",
    "print(\"ASCII value of\",c,\"is\",ord(c))"
   ]
  },
  {
   "cell_type": "code",
   "execution_count": 41,
   "id": "bf0d68d6",
   "metadata": {},
   "outputs": [
    {
     "name": "stdout",
     "output_type": "stream",
     "text": [
      "Which operator do you want to use? \n",
      " press 1 for + \n",
      " press 2 for -\n",
      " press 3 for x \n",
      " press 4 for ÷1\n",
      "7\n"
     ]
    }
   ],
   "source": [
    "#5.\tWrite a Python Program to Make a Simple Calculator with 4 basic mathematical operations?\n",
    "operator=int(input(\"Which operator do you want to use? \\n press 1 for + \\n press 2 for -\\n press 3 for x \\n press 4 for ÷\"))\n",
    "result=0\n",
    "num1=3\n",
    "num2=4\n",
    "if operator ==1:\n",
    "    result=num1+num2\n",
    "elif operator==2:\n",
    "    result=num1-num2\n",
    "elif operator==3:\n",
    "    result=num1*num2\n",
    "elif operator ==4:\n",
    "    result=num1/num2\n",
    "print(result)"
   ]
  }
 ],
 "metadata": {
  "kernelspec": {
   "display_name": "Python 3 (ipykernel)",
   "language": "python",
   "name": "python3"
  },
  "language_info": {
   "codemirror_mode": {
    "name": "ipython",
    "version": 3
   },
   "file_extension": ".py",
   "mimetype": "text/x-python",
   "name": "python",
   "nbconvert_exporter": "python",
   "pygments_lexer": "ipython3",
   "version": "3.9.7"
  }
 },
 "nbformat": 4,
 "nbformat_minor": 5
}
