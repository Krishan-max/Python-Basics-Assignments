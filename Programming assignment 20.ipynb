{
 "cells": [
  {
   "cell_type": "code",
   "execution_count": 5,
   "id": "53f3b518",
   "metadata": {},
   "outputs": [
    {
     "name": "stdout",
     "output_type": "stream",
     "text": [
      "[1, 5]\n"
     ]
    }
   ],
   "source": [
    "#Question1 Create a function that takes a list of strings and integers, and filters out the list so that it returns a list of integers only.\n",
    "\n",
    "#function to return integer list\n",
    "def intlist(l):\n",
    "    #empty list\n",
    "    l1=[]\n",
    "    for i in l:\n",
    "        #checking type of i \n",
    "        if type(i)==int:\n",
    "            l1.append(i)\n",
    "    return l1\n",
    "l=[1,\"list\",\"python\",\"123\",5,5.3]\n",
    "print(intlist(l))"
   ]
  },
  {
   "cell_type": "code",
   "execution_count": 8,
   "id": "296f5185",
   "metadata": {},
   "outputs": [
    {
     "name": "stdout",
     "output_type": "stream",
     "text": [
      "[0, 1, 2]\n"
     ]
    }
   ],
   "source": [
    "#Question2 : Given a list of numbers, create a function which returns the list but with each element's index in the list added to itself. This means you add 0 to the number at index 0, add 1 to the number at index 1, etc...\n",
    "\n",
    "def add_index(l1):\n",
    "    for i in range(len(l1)):\n",
    "        l1[i]=l1[i]+i\n",
    "    return l1\n",
    "l=[0,0,0]\n",
    "print(add_index(l))"
   ]
  },
  {
   "cell_type": "code",
   "execution_count": 8,
   "id": "287f6632",
   "metadata": {},
   "outputs": [
    {
     "data": {
      "text/plain": [
       "12.57"
      ]
     },
     "execution_count": 8,
     "metadata": {},
     "output_type": "execute_result"
    }
   ],
   "source": [
    "#Question3\n",
    "#Create a function that takes the height and radius of a cone as arguments and returns the volume of the cone rounded to the nearest hundredth. See the resources tab for the formula.\n",
    " \n",
    "def cone_volume(h,r):\n",
    "    vol=3.14159*r**2*h/3\n",
    "    return round(vol,2)\n",
    "\n",
    "height=3\n",
    "radius=2\n",
    "cone_volume(height,radius)"
   ]
  },
  {
   "cell_type": "code",
   "execution_count": 16,
   "id": "d3c7c982",
   "metadata": {},
   "outputs": [
    {
     "data": {
      "text/plain": [
       "23220"
      ]
     },
     "execution_count": 16,
     "metadata": {},
     "output_type": "execute_result"
    }
   ],
   "source": [
    "\"\"\"Question4\n",
    "This Triangular Number Sequence is generated from a pattern of dots that form a triangle. The first 5 numbers of the sequence, or dots, are: \n",
    "1, 3, 6, 10, 15\n",
    "This means that the first triangle has just one dot, the second one has three dots, the third one has 6 dots and so on.\n",
    "Write a function that gives the number of dots with its corresponding triangle number of the sequence.\n",
    "Examples\n",
    "triangle(1) ➞ 1\n",
    "\n",
    "triangle(6) ➞ 21\n",
    "\n",
    "triangle(215) ➞ 23220\"\"\"\n",
    "\n",
    "def triangle(n):\n",
    "    if n==1:\n",
    "        return 1\n",
    "    else:\n",
    "        x=triangle(n-1)+n\n",
    "        return x\n",
    "triangle(215)"
   ]
  },
  {
   "cell_type": "code",
   "execution_count": 11,
   "id": "334336e8",
   "metadata": {},
   "outputs": [
    {
     "name": "stdout",
     "output_type": "stream",
     "text": [
      "The missing number is 8\n"
     ]
    }
   ],
   "source": [
    "#Q5. Create a function that takes a list of numbers between 1 and 10 (excluding one number) and returns the missing number.\n",
    "\n",
    "def missing_num(l):\n",
    "    for i in range(1,11):\n",
    "        if i not in l:\n",
    "            return i\n",
    "    print(\"All numbers from 1-10 are present in the list\")\n",
    "\n",
    "li=[1,2,3,4,5,7,6,9,10]\n",
    "misnum=missing_num(li)\n",
    "if misnum!=None:\n",
    "    print(\"The missing number is\",misnum)"
   ]
  }
 ],
 "metadata": {
  "kernelspec": {
   "display_name": "Python 3 (ipykernel)",
   "language": "python",
   "name": "python3"
  },
  "language_info": {
   "codemirror_mode": {
    "name": "ipython",
    "version": 3
   },
   "file_extension": ".py",
   "mimetype": "text/x-python",
   "name": "python",
   "nbconvert_exporter": "python",
   "pygments_lexer": "ipython3",
   "version": "3.9.7"
  }
 },
 "nbformat": 4,
 "nbformat_minor": 5
}
