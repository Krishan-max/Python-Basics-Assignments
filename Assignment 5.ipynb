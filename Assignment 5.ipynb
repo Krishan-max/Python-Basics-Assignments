{
 "cells": [
  {
   "cell_type": "code",
   "execution_count": null,
   "id": "bbf26eea",
   "metadata": {},
   "outputs": [],
   "source": [
    "1. {}\n",
    "2. {'foo':42}\n",
    "3.List is ordered collection of values whereas disctionary is unordered collection of key value pair.\n",
    "4. We will get Keyerror\n",
    "5. Both are same.'cat' in spam checks whether there is any key 'cat' in dictionary and cat in spam.keys() also does the same. \n",
    "6.'cat' in spam checks whether there is any key 'cat' in dictionary and 'cat' in spam.values() checks if their is any value 'cat'\n",
    "corresponding to any key.\n",
    "7.spam.setdefault('color','black')\n",
    "8.pprint module and pprint.print() function"
   ]
  }
 ],
 "metadata": {
  "kernelspec": {
   "display_name": "Python 3 (ipykernel)",
   "language": "python",
   "name": "python3"
  },
  "language_info": {
   "codemirror_mode": {
    "name": "ipython",
    "version": 3
   },
   "file_extension": ".py",
   "mimetype": "text/x-python",
   "name": "python",
   "nbconvert_exporter": "python",
   "pygments_lexer": "ipython3",
   "version": "3.9.7"
  }
 },
 "nbformat": 4,
 "nbformat_minor": 5
}
